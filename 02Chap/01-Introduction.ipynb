{
 "cells": [
  {
   "cell_type": "markdown",
   "id": "97e26073",
   "metadata": {},
   "source": [
    " # Introduction to python Programming\n",
    " "
   ]
  },
  {
   "cell_type": "markdown",
   "id": "730a2ddb",
   "metadata": {},
   "source": [
    "### Variables and Assignment Statements\n",
    "Python en el modo interactivo puede resolver expresiones algebraicas, como la siguiente:"
   ]
  },
  {
   "cell_type": "code",
   "execution_count": 5,
   "id": "e49ab540",
   "metadata": {},
   "outputs": [
    {
     "data": {
      "text/plain": [
       "117"
      ]
     },
     "execution_count": 5,
     "metadata": {},
     "output_type": "execute_result"
    }
   ],
   "source": [
    "45+72"
   ]
  },
  {
   "cell_type": "markdown",
   "id": "87d5596d",
   "metadata": {},
   "source": [
    "Las expresiones en python también pueden contener **Varibles** las cuales son valores almacenados en el computador para un uso posterior. A continuación se declaran unas variables como **x** , **y** y **total**, donde cada linea se le conoce como una **proposición** la cual le indica al computador la labor a realizar. \n",
    "\n",
    "Es muy importante tener claro que el igual (=), **NO** es la igualdad matemática como tal, lo que quiere decir, en cualquier lenguaje de programación, es que la variable del lado izquierdo le corresponde  el valor del lado derecho (Siempre ejecutado en ese orden). Por ello, se le llama operador de **Asignación**.\n",
    "\n",
    "Pero no es el único operador que existe también existen los operadores artimeticos tradicionales, como: adición (+), sustracción (-), ..."
   ]
  },
  {
   "cell_type": "code",
   "execution_count": 6,
   "id": "72e5ce2f",
   "metadata": {},
   "outputs": [
    {
     "name": "stdout",
     "output_type": "stream",
     "text": [
      "10\n"
     ]
    }
   ],
   "source": [
    "x = 7\n",
    "y = 3\n",
    "total = x + y \n",
    "print(total)"
   ]
  },
  {
   "cell_type": "markdown",
   "id": "223b5bd3",
   "metadata": {},
   "source": [
    "En Python, no todos los nombres están permitidos. Por ello, existen **identificadores**, es decir, son aquellas palabras permitidas por el lenguaje de programación para ser asociadas a variables, tomando el caso de la linea anterior, tienen los identificadores **x**, **y** o **total** para dichas variables. También, se pueden utilizar letras en mayúscula o minuscula, números o linea al piso ( _ ). No obstante, los nombres **No** pueden comenzar con números, o tener espacios, o tener el mismo nombre que palabras reservadas para el lenguaje. De igual manera, se debe ser cuidadoso al momento de utilizar mayúsculas o minúsculas pues \"zero\" y \"Zero\" son dos palabras diferentes para python.\n",
    "\n",
    "Si tiene dudas del tipo de varible que representa, puede utilizar le método **typ()** la cual es una función estandar de python."
   ]
  },
  {
   "cell_type": "code",
   "execution_count": 7,
   "id": "6e3a68f2",
   "metadata": {},
   "outputs": [
    {
     "data": {
      "text/plain": [
       "int"
      ]
     },
     "execution_count": 7,
     "metadata": {},
     "output_type": "execute_result"
    }
   ],
   "source": [
    "type(x)\n"
   ]
  },
  {
   "cell_type": "markdown",
   "id": "591b70c8",
   "metadata": {},
   "source": [
    "\n",
    "Pero si se escoge un número decimal como 10.15 las función **type()**, dice que es una objeto con presición flotante."
   ]
  },
  {
   "cell_type": "code",
   "execution_count": 8,
   "id": "4d3d9488",
   "metadata": {},
   "outputs": [
    {
     "data": {
      "text/plain": [
       "float"
      ]
     },
     "execution_count": 8,
     "metadata": {},
     "output_type": "execute_result"
    }
   ],
   "source": [
    "type(10.5)"
   ]
  },
  {
   "cell_type": "markdown",
   "id": "cf00602b",
   "metadata": {},
   "source": [
    "# Ejercicios \n",
    "1. (Verdadero/Falso) ¿Los siguientes nombres de variables son validos: 3g, 87 y score_4?\n",
    "2. (Verdadero/Falso) ¿Python trata a X y x con el mismo identificador?\n",
    "\n",
    "3. (Python Sesion) Calcule la sumatoria de  10.8, 12,2 y 0,2. Almacene el resultado en la variable **total**, entonces muestrelo en pantalla"
   ]
  },
  {
   "cell_type": "code",
   "execution_count": 9,
   "id": "dcbc5e7f",
   "metadata": {},
   "outputs": [
    {
     "data": {
      "text/plain": [
       "23.2"
      ]
     },
     "execution_count": 9,
     "metadata": {},
     "output_type": "execute_result"
    }
   ],
   "source": [
    "total = 10.8+12.2+0.2\n",
    "total"
   ]
  },
  {
   "cell_type": "markdown",
   "id": "2233a004",
   "metadata": {},
   "source": [
    "# Arithmetic\n",
    "La mayoria de programas necesitan calculos aritmeticos. A continuación se muestra una tabla donde se resumen las **operaciones aritmetica**."
   ]
  },
  {
   "cell_type": "markdown",
   "id": "c4250651",
   "metadata": {},
   "source": [
    "|Operador en Python | Operador Aritmetico |  Expresion algebraica | Expresion en python |\n",
    "| :---:          | :---: | :---:       |:---:|\n",
    "| Adición        |   +   |__f+7__      |f+7  |\n",
    "| Sustracción    |   -   |__p-c__      |p-c  |\n",
    "| Multiplicación |   *   |__b$\\cdot$m__|b * m |\n",
    "| Exponenciación |  **   |__$x^{y}$__  |x**y |\n",
    "| División true  |  /    |__x/y__ o $\\frac{x}{y}$| x/y  |\n",
    "| Division floor |  //   |             | x//y  |\n",
    "| Residuo(Modulo)|  %    |r__mod__ s   | r % s |"
   ]
  },
  {
   "cell_type": "markdown",
   "id": "7b034466",
   "metadata": {},
   "source": [
    "### Multiplication (*)"
   ]
  },
  {
   "cell_type": "code",
   "execution_count": 8,
   "id": "ed98e99c",
   "metadata": {},
   "outputs": [
    {
     "data": {
      "text/plain": [
       "28"
      ]
     },
     "execution_count": 8,
     "metadata": {},
     "output_type": "execute_result"
    }
   ],
   "source": [
    "7*4"
   ]
  },
  {
   "cell_type": "markdown",
   "id": "8fd4f6df",
   "metadata": {},
   "source": [
    "### Exponentiation (**)"
   ]
  },
  {
   "cell_type": "code",
   "execution_count": 9,
   "id": "a4dc9c18",
   "metadata": {},
   "outputs": [
    {
     "data": {
      "text/plain": [
       "1024"
      ]
     },
     "execution_count": 9,
     "metadata": {},
     "output_type": "execute_result"
    }
   ],
   "source": [
    "2**10"
   ]
  },
  {
   "cell_type": "code",
   "execution_count": 11,
   "id": "825787f9",
   "metadata": {},
   "outputs": [
    {
     "data": {
      "text/plain": [
       "3.0"
      ]
     },
     "execution_count": 11,
     "metadata": {},
     "output_type": "execute_result"
    }
   ],
   "source": [
    "9**(1/2)\n"
   ]
  },
  {
   "cell_type": "markdown",
   "id": "c7296c8b",
   "metadata": {},
   "source": [
    "### Division(/) vs Floor Division(//)\n",
    "**Division True** divide el numerador entre el denominador y conduce a un número de precisión flotante (float), como se ilustra a continuación:"
   ]
  },
  {
   "cell_type": "code",
   "execution_count": 12,
   "id": "57c749e3",
   "metadata": {},
   "outputs": [
    {
     "data": {
      "text/plain": [
       "1.75"
      ]
     },
     "execution_count": 12,
     "metadata": {},
     "output_type": "execute_result"
    }
   ],
   "source": [
    "7/4"
   ]
  },
  {
   "cell_type": "markdown",
   "id": "750d2e13",
   "metadata": {},
   "source": [
    "**Division Floor** divide el numerador por el denominador y retornal el entero más alto que no es superior al resultado. Python descarta la parte decimal, como ocurre en los siguientes ejemplos:"
   ]
  },
  {
   "cell_type": "code",
   "execution_count": 10,
   "id": "9b416908",
   "metadata": {},
   "outputs": [
    {
     "data": {
      "text/plain": [
       "1"
      ]
     },
     "execution_count": 10,
     "metadata": {},
     "output_type": "execute_result"
    }
   ],
   "source": [
    "7//4"
   ]
  },
  {
   "cell_type": "code",
   "execution_count": 15,
   "id": "330bbb8d",
   "metadata": {},
   "outputs": [
    {
     "data": {
      "text/plain": [
       "0"
      ]
     },
     "execution_count": 15,
     "metadata": {},
     "output_type": "execute_result"
    }
   ],
   "source": [
    "3//5"
   ]
  },
  {
   "cell_type": "markdown",
   "id": "789c77dd",
   "metadata": {},
   "source": [
    "##### Exceptions and tracebacks\n",
    "Dividir por cero en cualquiera de los dos casos genera una **excepción** y Python reporta las excepciones con **rastreo(Traceback)**. En este caso el rastro indica que la excepción es del tipo *ZeroDivisionError* (La mayoria de excepciones finalizan con la palabra error)\n",
    "\n",
    "La linea que comienza ---->1 muestra la linea de codigo que inicio esta excepción.En algunos casos pueden ser más de una linea marcada con ---->. La última linea indica el nombre de la excepción que ocurrio seguido de dos puntos (:) y el mensaje del error."
   ]
  },
  {
   "cell_type": "code",
   "execution_count": 16,
   "id": "e43d3132",
   "metadata": {},
   "outputs": [
    {
     "ename": "ZeroDivisionError",
     "evalue": "division by zero",
     "output_type": "error",
     "traceback": [
      "\u001b[0;31m---------------------------------------------------------------------------\u001b[0m",
      "\u001b[0;31mZeroDivisionError\u001b[0m                         Traceback (most recent call last)",
      "Cell \u001b[0;32mIn[16], line 1\u001b[0m\n\u001b[0;32m----> 1\u001b[0m \u001b[38;5;241;43m7\u001b[39;49m\u001b[38;5;241;43m/\u001b[39;49m\u001b[38;5;241;43m0\u001b[39;49m\n",
      "\u001b[0;31mZeroDivisionError\u001b[0m: division by zero"
     ]
    }
   ],
   "source": [
    "7/0"
   ]
  },
  {
   "cell_type": "markdown",
   "id": "5224215d",
   "metadata": {},
   "source": [
    "# Residuo o Modulo (%)"
   ]
  },
  {
   "cell_type": "code",
   "execution_count": 17,
   "id": "4cda13a5",
   "metadata": {},
   "outputs": [
    {
     "data": {
      "text/plain": [
       "2"
      ]
     },
     "execution_count": 17,
     "metadata": {},
     "output_type": "execute_result"
    }
   ],
   "source": [
    "17%5"
   ]
  },
  {
   "cell_type": "markdown",
   "id": "23cfbf91",
   "metadata": {},
   "source": []
  },
  {
   "cell_type": "code",
   "execution_count": null,
   "id": "652d2de3",
   "metadata": {},
   "outputs": [],
   "source": []
  },
  {
   "cell_type": "markdown",
   "id": "e66e59e9",
   "metadata": {},
   "source": [
    "Se debe tener presente la existencia de funciones estandar para el correcto funcionamiento de todo lenguaje de programación, por ejemplo; debe existir una función que pueda imprimir en pantalla (En python es **print()**), una función que pida al usuario ingresar datos (en python es **input()**) o conocer el tipo de variable que se representa(En python es **type()**), entre muchas otras. Asimismos, todas se llaman o invocan a través del nombre, seguido unos parentesis(), donde  en su interior debe estar el argumento sobre el cual se desea actuar.\n"
   ]
  },
  {
   "cell_type": "code",
   "execution_count": null,
   "id": "73d39040",
   "metadata": {},
   "outputs": [],
   "source": []
  },
  {
   "cell_type": "code",
   "execution_count": null,
   "id": "ba0f61fe",
   "metadata": {},
   "outputs": [],
   "source": []
  },
  {
   "cell_type": "code",
   "execution_count": null,
   "id": "22d845f6",
   "metadata": {},
   "outputs": [],
   "source": []
  }
 ],
 "metadata": {
  "kernelspec": {
   "display_name": "Python 3 (ipykernel)",
   "language": "python",
   "name": "python3"
  },
  "language_info": {
   "codemirror_mode": {
    "name": "ipython",
    "version": 3
   },
   "file_extension": ".py",
   "mimetype": "text/x-python",
   "name": "python",
   "nbconvert_exporter": "python",
   "pygments_lexer": "ipython3",
   "version": "3.11.3"
  }
 },
 "nbformat": 4,
 "nbformat_minor": 5
}
